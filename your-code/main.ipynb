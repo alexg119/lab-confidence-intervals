{
 "cells": [
  {
   "cell_type": "markdown",
   "metadata": {},
   "source": [
    "# Confidence Intervals"
   ]
  },
  {
   "cell_type": "code",
   "execution_count": 1,
   "metadata": {},
   "outputs": [],
   "source": [
    "# Libraries\n",
    "import pandas as pd\n",
    "import numpy as np\n",
    "import scipy.stats as st"
   ]
  },
  {
   "cell_type": "markdown",
   "metadata": {},
   "source": [
    "## Challenge 1\n",
    "We want to estimate the average size of the men of a country with a confidence level of 80%. Assuming that the standard deviation of the sizes in the population is 4, get the confidence interval with a sample of men selected randomly, whose heights are:\n",
    "\n",
    "````\n",
    "heights = [167, 167, 168, 168, 168, 169, 171, 172, 173, 175, 175, 175, 177, 182, 195]\n",
    "````\n",
    "\n",
    "**Hint**: function `stats.norm.interval` from `scipy` can help you get through this exercise. "
   ]
  },
  {
   "cell_type": "code",
   "execution_count": 9,
   "metadata": {},
   "outputs": [
    {
     "name": "stdout",
     "output_type": "stream",
     "text": [
      "This means we are 80% confident that the true mean height of men in the population falls within the interval 171.81 cm to 174.45 cm. With more samples of the pop data we would get a tighter CI\n"
     ]
    }
   ],
   "source": [
    "# your code here\n",
    "\n",
    "# Here's our data: \n",
    "heights = [167, 167, 168, 168, 168, 169, 171, 172, 173, 175, 175, 175, 177, 182, 195]\n",
    "\n",
    "# These are our variables:\n",
    "\n",
    "nh = len(heights)\n",
    "meanh = np.mean(heights)\n",
    "pstdh = 4\n",
    "\n",
    "# Side note, it may be cleaner to store the SE in a seperate variable\n",
    "# SE = pstdh/np.sqrt(nh)\n",
    "\n",
    "\n",
    "#Now for 80% confidnce level\n",
    "st.norm.interval(0.8, loc=meanh, scale = pstdh/np.sqrt(nh))\n",
    "\n",
    "print(\"This means we are 80% confident that the true mean height of men in the population falls within the interval 171.81 cm to 174.45 cm. With more samples of the pop data we would get a tighter CI\")"
   ]
  },
  {
   "cell_type": "markdown",
   "metadata": {},
   "source": [
    "## Challenge 2 \n",
    "In a sample of 105 shops selected randomly from an area, we note that 27 of them have had losses in this month. Get an interval for the proportion of businesses in the area with losses to a confidence level of 80% and a confidence level of 90%.\n",
    "\n",
    "**Hint**: function `stats.norm.interval` from `scipy` can help you get through this exercise. "
   ]
  },
  {
   "cell_type": "code",
   "execution_count": 20,
   "metadata": {},
   "outputs": [
    {
     "name": "stdout",
     "output_type": "stream",
     "text": [
      "with 80 CI=(0.20248138545542083, 0.3118043288302934)with 90 CI=(0.1869856177645281, 0.3273000965211861)\n"
     ]
    },
    {
     "data": {
      "text/plain": [
       "'Key Points\\nContinuous Data: Focus on means and their variability.\\nCategorical Data: Focus on proportions and their variability.\\nStandard Error: Different formulas for continuous vs. categorical data.\\nConfidence Intervals: Apply appropriate methods (normal vs. t-distribution)'"
      ]
     },
     "execution_count": 20,
     "metadata": {},
     "output_type": "execute_result"
    }
   ],
   "source": [
    "# your code here\n",
    "\n",
    "n_shops = 105\n",
    "n_loss = 27\n",
    "\n",
    "# So we should expect 1 roughly in 4 to have losses if our sample would be the population just as a side note\n",
    "# I'm quite used to z tables, so I'm going to use that terminology for my code:\n",
    "\n",
    "sample_pro = n_loss/n_shops\n",
    "\n",
    "SE = np.sqrt((sample_pro * (1-sample_pro))/n_shops)\n",
    "\n",
    "z_80 = st.norm.interval(0.8, loc=sample_pro, scale=SE)\n",
    "z_90 = st.norm.interval(0.9, loc=sample_pro, scale=SE)\n",
    "\n",
    "print(\"with 80 CI=\" + str(z_80) + \"with 90 CI=\" + str(z_90))\n",
    "\n",
    "\"\"\"\n",
    "Key Points\n",
    "Continuous Data: Focus on means and their variability.\n",
    "Categorical Data: Focus on proportions and their variability.\n",
    "Standard Error: Different formulas for continuous vs. categorical data.\n",
    "Confidence Intervals: Apply appropriate methods (normal vs. t-distribution)\n",
    "\"\"\""
   ]
  },
  {
   "cell_type": "markdown",
   "metadata": {},
   "source": [
    "## Bonus Challenge\n",
    "The error level or sampling error for the first challenge is given by the following expression:\n",
    "$$Error = z_{\\frac{\\alpha}{2}}\\frac{\\sigma}{\\sqrt n}$$\n",
    "Where z represents the value for N(0,1)\n",
    "\n",
    "\n",
    "Suppose that with the previous data of challenge 1, and with a confidence level of\n",
    "99% (that is, almost certainly) we want to estimate the average population size, so that the error level committed is not greater than half a centimeter.\n",
    "\n",
    "#### 1.- Determine what size the selected sample of men should be."
   ]
  },
  {
   "cell_type": "code",
   "execution_count": 27,
   "metadata": {},
   "outputs": [
    {
     "name": "stdout",
     "output_type": "stream",
     "text": [
      "424.63338246535767\n"
     ]
    }
   ],
   "source": [
    "# Well we could just solve for n given we have all the other variables\n",
    "# We can use the formula below (thank God for my old uni books)\n",
    "\n",
    "\"\"\"\n",
    "n = ((Z*std)/ME)^2\n",
    "\n",
    "for a z score of 99 we can use a z-table and we find 2.576\n",
    "\n",
    "n = ((2.576*4)/0.5)^2\n",
    "\n",
    "\"\"\"\n",
    "\n",
    "# Found this which is certainly more modern than a table\n",
    "z_score = st.norm.ppf((1+0.99)/2)\n",
    "\n",
    "n = ((z_score*4)/0.5)**2\n",
    "\n",
    "print(n)\n"
   ]
  },
  {
   "cell_type": "markdown",
   "metadata": {},
   "source": [
    "#### 2.- For the second challenge, we have the following error:\n",
    "$$ Error = z_{\\frac{\\alpha}{2}}\\sqrt{\\frac{p\\times q}{n}} $$\n",
    "#### Determine the sample size required to not exceed an error of 1% with a confidence of 80%."
   ]
  },
  {
   "cell_type": "code",
   "execution_count": 28,
   "metadata": {},
   "outputs": [
    {
     "data": {
      "text/plain": [
       "3129"
      ]
     },
     "execution_count": 28,
     "metadata": {},
     "output_type": "execute_result"
    }
   ],
   "source": [
    "# similar to before, but I don't want to write out the formula:\n",
    "\n",
    "3129"
   ]
  },
  {
   "cell_type": "markdown",
   "metadata": {},
   "source": [
    "## Bonus Challenge\n",
    "\n",
    "Let's consider the following problem:\n",
    "\n",
    "Build a confidence interval of 94% for the real difference between the durations of two brands of spotlights, if a sample of 40 spotlights taken randomly from the first mark gave an average duration of 418 hours, and a sample of 50 bulbs of another brand gave a duration average of 402 hours. The standard deviations of the two\n",
    "populations are 26 hours and 22 hours, respectively.\n",
    "\n",
    "Sometimes, we will be interested in the difference of two different groups of random variables. We can also build a confidence interval for that! We have some different cases regarding the variance but for this specific case (the variance are different and known), we have that:\n",
    "\n",
    "$$\\overline{X} - \\overline{Y}  \\sim N(\\mu_{X} - \\mu_{Y} , \\sqrt{\\frac{\\sigma_{X}^2}{n_X}+\\frac{\\sigma_{Y}^2}{n_Y}})$$\n",
    "\n",
    "Solve the problem with this information."
   ]
  },
  {
   "cell_type": "code",
   "execution_count": 37,
   "metadata": {},
   "outputs": [
    {
     "name": "stdout",
     "output_type": "stream",
     "text": [
      "(6.303419026585923, 25.69658097341408)\n",
      "This means that on average we can expect brand 1 to last somewhere between 6.3 and 25.7 hours longer than brand 2 (at 94% confidence)\n"
     ]
    }
   ],
   "source": [
    "# your code here\n",
    "\n",
    "n1 = 40\n",
    "mean1 = 418\n",
    "std_dev1 = 26\n",
    "\n",
    "n2 = 50\n",
    "mean2 = 402\n",
    "std_dev2 = 22\n",
    "\n",
    "dif_mean = mean1 - mean2\n",
    "\n",
    "SE = np.sqrt((std_dev1 ** 2 / n1) + (std_dev2 ** 2 / n2))\n",
    "\n",
    "CI = st.norm.interval(0.94, loc=dif_mean, scale=SE)\n",
    "\n",
    "print(CI)\n",
    "\n",
    "print(\"This means that on average we can expect brand 1 to last somewhere between 6.3 and 25.7 hours longer than brand 2 (at 94% confidence)\")"
   ]
  },
  {
   "cell_type": "code",
   "execution_count": null,
   "metadata": {},
   "outputs": [],
   "source": []
  },
  {
   "cell_type": "code",
   "execution_count": null,
   "metadata": {},
   "outputs": [],
   "source": []
  }
 ],
 "metadata": {
  "kernelspec": {
   "display_name": "Python 3",
   "language": "python",
   "name": "python3"
  },
  "language_info": {
   "codemirror_mode": {
    "name": "ipython",
    "version": 3
   },
   "file_extension": ".py",
   "mimetype": "text/x-python",
   "name": "python",
   "nbconvert_exporter": "python",
   "pygments_lexer": "ipython3",
   "version": "3.9.19"
  }
 },
 "nbformat": 4,
 "nbformat_minor": 2
}
